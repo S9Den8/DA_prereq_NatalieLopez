{
 "cells": [
  {
   "cell_type": "code",
   "execution_count": 1,
   "id": "a16eb2ff",
   "metadata": {},
   "outputs": [
    {
     "name": "stdout",
     "output_type": "stream",
     "text": [
      "Hello, working hard on the DA pathway!\n"
     ]
    }
   ],
   "source": [
    "print(\"Hello, working hard on the DA pathway!\")"
   ]
  },
  {
   "cell_type": "markdown",
   "id": "ba292af0",
   "metadata": {},
   "source": [
    "My name is Natalie Lopez and I am beginning the Data Analytics Pathway with a strong interest in research that creates measurable impact. My interest in cryptography has shaped how I approach complexity and recognize structure and meaning within data. I am drawn to data analytics because it offers a disciplined way to transform information into practical insight. One of my goals is to develop an artificial intelligence agent that supports my sister, who works for a non-profit organization that helps women and children. I want to create tools that streamline her work and enhance her ability to expand the organization’s reach and effectiveness. Through this program I aim to strengthen my technical skills, broaden my analytical perspective, and apply data-driven methods to meaningful, real-world challenges."
   ]
  },
  {
   "cell_type": "markdown",
   "id": "8144930b",
   "metadata": {},
   "source": []
  }
 ],
 "metadata": {
  "kernelspec": {
   "display_name": "Python 3",
   "language": "python",
   "name": "python3"
  },
  "language_info": {
   "codemirror_mode": {
    "name": "ipython",
    "version": 3
   },
   "file_extension": ".py",
   "mimetype": "text/x-python",
   "name": "python",
   "nbconvert_exporter": "python",
   "pygments_lexer": "ipython3",
   "version": "3.14.0"
  }
 },
 "nbformat": 4,
 "nbformat_minor": 5
}
